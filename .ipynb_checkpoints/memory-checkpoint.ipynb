{
 "cells": [
  {
   "cell_type": "markdown",
   "metadata": {},
   "source": [
    "## 数据类型"
   ]
  },
  {
   "cell_type": "code",
   "execution_count": 5,
   "metadata": {},
   "outputs": [],
   "source": [
    "name = 'Peter'"
   ]
  },
  {
   "cell_type": "markdown",
   "metadata": {},
   "source": [
    "查看内存中的地址，表明它的身份"
   ]
  },
  {
   "cell_type": "code",
   "execution_count": null,
   "metadata": {},
   "outputs": [],
   "source": []
  },
  {
   "cell_type": "code",
   "execution_count": 6,
   "metadata": {},
   "outputs": [
    {
     "data": {
      "text/plain": [
       "2823513866800"
      ]
     },
     "execution_count": 6,
     "metadata": {},
     "output_type": "execute_result"
    }
   ],
   "source": [
    "id(name)"
   ]
  },
  {
   "cell_type": "code",
   "execution_count": 7,
   "metadata": {},
   "outputs": [
    {
     "data": {
      "text/plain": [
       "str"
      ]
     },
     "execution_count": 7,
     "metadata": {},
     "output_type": "execute_result"
    }
   ],
   "source": [
    "type(name)"
   ]
  },
  {
   "cell_type": "code",
   "execution_count": 8,
   "metadata": {},
   "outputs": [
    {
     "data": {
      "text/plain": [
       "'Peter'"
      ]
     },
     "execution_count": 8,
     "metadata": {},
     "output_type": "execute_result"
    }
   ],
   "source": [
    "name"
   ]
  },
  {
   "cell_type": "markdown",
   "metadata": {},
   "source": [
    "type本身也是对象，它也拥有自己的身份、类型。Python中，万物皆对象。跟Linux中，万物皆文件有点类似。"
   ]
  },
  {
   "cell_type": "code",
   "execution_count": 9,
   "metadata": {},
   "outputs": [
    {
     "data": {
      "text/plain": [
       "type"
      ]
     },
     "execution_count": 9,
     "metadata": {},
     "output_type": "execute_result"
    }
   ],
   "source": [
    "type(type(name))"
   ]
  },
  {
   "cell_type": "code",
   "execution_count": 10,
   "metadata": {},
   "outputs": [
    {
     "data": {
      "text/plain": [
       "140734024482384"
      ]
     },
     "execution_count": 10,
     "metadata": {},
     "output_type": "execute_result"
    }
   ],
   "source": [
    "id(type(name))"
   ]
  },
  {
   "cell_type": "markdown",
   "metadata": {},
   "source": [
    "Python中数据分成可变数据类型和不可变数据类型：\n",
    "不可变：数值、字符串、布尔值。不可变对象指对象的身份和值都不可变，新创建的对象被关联到原来的变量名，旧对象被抛弃，等待垃圾回收器在适当的时机回收这些对象。\n",
    "可变：列表、字典、集合。可变指的是对象的值可以改变，身份不变。"
   ]
  },
  {
   "cell_type": "code",
   "execution_count": 15,
   "metadata": {},
   "outputs": [],
   "source": [
    "#不可变对象\n",
    "str1 = \"python\""
   ]
  },
  {
   "cell_type": "code",
   "execution_count": 16,
   "metadata": {},
   "outputs": [
    {
     "data": {
      "text/plain": [
       "2823434008112"
      ]
     },
     "execution_count": 16,
     "metadata": {},
     "output_type": "execute_result"
    }
   ],
   "source": [
    "id(str1)"
   ]
  },
  {
   "cell_type": "code",
   "execution_count": 17,
   "metadata": {},
   "outputs": [],
   "source": [
    "str2 = \"python\""
   ]
  },
  {
   "cell_type": "code",
   "execution_count": 18,
   "metadata": {},
   "outputs": [
    {
     "data": {
      "text/plain": [
       "2823434008112"
      ]
     },
     "execution_count": 18,
     "metadata": {},
     "output_type": "execute_result"
    }
   ],
   "source": [
    "id(str2) #只是改变了变量名，内存地址不变"
   ]
  },
  {
   "cell_type": "code",
   "execution_count": 19,
   "metadata": {},
   "outputs": [],
   "source": [
    "#2.数值型\n",
    "number1 = 5"
   ]
  },
  {
   "cell_type": "code",
   "execution_count": 20,
   "metadata": {},
   "outputs": [
    {
     "data": {
      "text/plain": [
       "140734024950288"
      ]
     },
     "execution_count": 20,
     "metadata": {},
     "output_type": "execute_result"
    }
   ],
   "source": [
    "id(number1)"
   ]
  },
  {
   "cell_type": "code",
   "execution_count": 21,
   "metadata": {},
   "outputs": [],
   "source": [
    "number2 = 5"
   ]
  },
  {
   "cell_type": "code",
   "execution_count": 22,
   "metadata": {},
   "outputs": [
    {
     "data": {
      "text/plain": [
       "140734024950288"
      ]
     },
     "execution_count": 22,
     "metadata": {},
     "output_type": "execute_result"
    }
   ],
   "source": [
    "id(number2)"
   ]
  },
  {
   "cell_type": "code",
   "execution_count": 23,
   "metadata": {},
   "outputs": [],
   "source": [
    "#布尔型\n",
    "booll = True"
   ]
  },
  {
   "cell_type": "code",
   "execution_count": 24,
   "metadata": {},
   "outputs": [
    {
     "data": {
      "text/plain": [
       "140734024427856"
      ]
     },
     "execution_count": 24,
     "metadata": {},
     "output_type": "execute_result"
    }
   ],
   "source": [
    "id(booll)"
   ]
  },
  {
   "cell_type": "code",
   "execution_count": 25,
   "metadata": {},
   "outputs": [],
   "source": [
    "bool2 = True"
   ]
  },
  {
   "cell_type": "code",
   "execution_count": 26,
   "metadata": {},
   "outputs": [
    {
     "data": {
      "text/plain": [
       "140734024427856"
      ]
     },
     "execution_count": 26,
     "metadata": {},
     "output_type": "execute_result"
    }
   ],
   "source": [
    "id(bool2)"
   ]
  },
  {
   "cell_type": "markdown",
   "metadata": {},
   "source": [
    "以上的例子说明，当我们对字符串、数值型、布尔型的数据改变变量名，并不会影响到数据在内存中的存储位置。这点和C++很不一样。有点像Java"
   ]
  },
  {
   "cell_type": "code",
   "execution_count": 28,
   "metadata": {},
   "outputs": [],
   "source": [
    "#可变类型：1.列表\n",
    "list1 = [1,2,3]"
   ]
  },
  {
   "cell_type": "code",
   "execution_count": 29,
   "metadata": {},
   "outputs": [
    {
     "data": {
      "text/plain": [
       "2823523529480"
      ]
     },
     "execution_count": 29,
     "metadata": {},
     "output_type": "execute_result"
    }
   ],
   "source": [
    "id(list1)"
   ]
  },
  {
   "cell_type": "code",
   "execution_count": 30,
   "metadata": {},
   "outputs": [],
   "source": [
    "list2 = [1,2,3]"
   ]
  },
  {
   "cell_type": "code",
   "execution_count": 31,
   "metadata": {},
   "outputs": [
    {
     "data": {
      "text/plain": [
       "2823482218824"
      ]
     },
     "execution_count": 31,
     "metadata": {},
     "output_type": "execute_result"
    }
   ],
   "source": [
    "id(list2)"
   ]
  },
  {
   "cell_type": "code",
   "execution_count": 32,
   "metadata": {},
   "outputs": [],
   "source": [
    "#2.字典\n",
    "dict1 = {\"name\":\"xiaoming\",\"age\":18}"
   ]
  },
  {
   "cell_type": "code",
   "execution_count": 33,
   "metadata": {},
   "outputs": [
    {
     "data": {
      "text/plain": [
       "2823518770744"
      ]
     },
     "execution_count": 33,
     "metadata": {},
     "output_type": "execute_result"
    }
   ],
   "source": [
    "id(dict1)"
   ]
  },
  {
   "cell_type": "code",
   "execution_count": 34,
   "metadata": {},
   "outputs": [],
   "source": [
    "dict2 = {\"name\":\"xiaoming\",\"age\":18}"
   ]
  },
  {
   "cell_type": "code",
   "execution_count": 35,
   "metadata": {},
   "outputs": [
    {
     "data": {
      "text/plain": [
       "2823496262584"
      ]
     },
     "execution_count": 35,
     "metadata": {},
     "output_type": "execute_result"
    }
   ],
   "source": [
    "id(dict2)"
   ]
  },
  {
   "cell_type": "code",
   "execution_count": 36,
   "metadata": {},
   "outputs": [],
   "source": [
    "#3.集合\n",
    "set1 = {1,2,3}"
   ]
  },
  {
   "cell_type": "code",
   "execution_count": 37,
   "metadata": {},
   "outputs": [
    {
     "data": {
      "text/plain": [
       "2823525797000"
      ]
     },
     "execution_count": 37,
     "metadata": {},
     "output_type": "execute_result"
    }
   ],
   "source": [
    "id(set1)"
   ]
  },
  {
   "cell_type": "code",
   "execution_count": 38,
   "metadata": {},
   "outputs": [],
   "source": [
    "set2 = {1,2,3}"
   ]
  },
  {
   "cell_type": "code",
   "execution_count": 39,
   "metadata": {},
   "outputs": [
    {
     "data": {
      "text/plain": [
       "2823525752392"
      ]
     },
     "execution_count": 39,
     "metadata": {},
     "output_type": "execute_result"
    }
   ],
   "source": [
    "id(set2)"
   ]
  },
  {
   "cell_type": "markdown",
   "metadata": {},
   "source": [
    "## 引用：变量名实际上就是对象的地址引用"
   ]
  },
  {
   "cell_type": "code",
   "execution_count": 40,
   "metadata": {},
   "outputs": [],
   "source": [
    "age = \"xiaoming\""
   ]
  },
  {
   "cell_type": "code",
   "execution_count": 41,
   "metadata": {},
   "outputs": [
    {
     "data": {
      "text/plain": [
       "2823528219376"
      ]
     },
     "execution_count": 41,
     "metadata": {},
     "output_type": "execute_result"
    }
   ],
   "source": [
    "id(age)"
   ]
  },
  {
   "cell_type": "code",
   "execution_count": 42,
   "metadata": {},
   "outputs": [
    {
     "data": {
      "text/plain": [
       "2823528219376"
      ]
     },
     "execution_count": 42,
     "metadata": {},
     "output_type": "execute_result"
    }
   ],
   "source": [
    "id(\"xiaoming\")"
   ]
  },
  {
   "cell_type": "markdown",
   "metadata": {},
   "source": [
    "## 变量赋值"
   ]
  },
  {
   "cell_type": "code",
   "execution_count": 43,
   "metadata": {},
   "outputs": [],
   "source": [
    "v1 = [11,22,33]\n",
    "v2 = v1"
   ]
  },
  {
   "cell_type": "code",
   "execution_count": 44,
   "metadata": {},
   "outputs": [
    {
     "name": "stdout",
     "output_type": "stream",
     "text": [
      "True\n",
      "True\n",
      "True\n"
     ]
    }
   ],
   "source": [
    "print(v1==v2) #数据相同\n",
    "print(v1 is v2) #对象相同\n",
    "print(id(v1)==id(v2)) #内存地址相同"
   ]
  },
  {
   "cell_type": "code",
   "execution_count": 45,
   "metadata": {},
   "outputs": [],
   "source": [
    "v1.append(4)"
   ]
  },
  {
   "cell_type": "code",
   "execution_count": 46,
   "metadata": {},
   "outputs": [
    {
     "data": {
      "text/plain": [
       "[11, 22, 33, 4]"
      ]
     },
     "execution_count": 46,
     "metadata": {},
     "output_type": "execute_result"
    }
   ],
   "source": [
    "v2"
   ]
  },
  {
   "cell_type": "markdown",
   "metadata": {},
   "source": [
    "## 嵌套赋值"
   ]
  },
  {
   "cell_type": "code",
   "execution_count": 47,
   "metadata": {},
   "outputs": [],
   "source": [
    "d = [1,2,3]\n",
    "dd = [11,22,d]"
   ]
  },
  {
   "cell_type": "code",
   "execution_count": 48,
   "metadata": {},
   "outputs": [
    {
     "name": "stdout",
     "output_type": "stream",
     "text": [
      "[1, 2, 3]\n",
      "[11, 22, [1, 2, 3]]\n"
     ]
    }
   ],
   "source": [
    "print(d)\n",
    "print(dd)"
   ]
  },
  {
   "cell_type": "code",
   "execution_count": 49,
   "metadata": {},
   "outputs": [],
   "source": [
    "d.append(9)"
   ]
  },
  {
   "cell_type": "code",
   "execution_count": 50,
   "metadata": {},
   "outputs": [
    {
     "data": {
      "text/plain": [
       "[11, 22, [1, 2, 3, 9]]"
      ]
     },
     "execution_count": 50,
     "metadata": {},
     "output_type": "execute_result"
    }
   ],
   "source": [
    "dd"
   ]
  },
  {
   "cell_type": "markdown",
   "metadata": {},
   "source": [
    "## 浅拷贝"
   ]
  },
  {
   "cell_type": "code",
   "execution_count": 51,
   "metadata": {},
   "outputs": [],
   "source": [
    "import copy #浅拷贝只是拷贝数据的第一层，不会拷贝子对象\n",
    "#针对不可变类型的浅拷贝，对象和原数据对象是相同的内存地址\n",
    "a = 'Peter'\n",
    "b= copy.copy(a) #浅拷贝"
   ]
  },
  {
   "cell_type": "code",
   "execution_count": 52,
   "metadata": {},
   "outputs": [
    {
     "name": "stdout",
     "output_type": "stream",
     "text": [
      "2823513866800\n",
      "2823513866800\n"
     ]
    }
   ],
   "source": [
    "print(id(a))\n",
    "print(id(b))"
   ]
  },
  {
   "cell_type": "markdown",
   "metadata": {},
   "source": [
    "针对不可变类型的浅拷贝，只是换了一个名字罢了"
   ]
  },
  {
   "cell_type": "code",
   "execution_count": 53,
   "metadata": {},
   "outputs": [],
   "source": [
    "#不存在嵌套-列表\n",
    "list1 = [1,2,3]\n",
    "list2 = copy.copy(list1)"
   ]
  },
  {
   "cell_type": "code",
   "execution_count": 54,
   "metadata": {},
   "outputs": [
    {
     "name": "stdout",
     "output_type": "stream",
     "text": [
      "原始列表本身地址： 2823534487176\n",
      "浅拷贝列表的地址： 2823528215048\n"
     ]
    }
   ],
   "source": [
    "print(\"原始列表本身地址：\",id(list1))\n",
    "print(\"浅拷贝列表的地址：\",id(list2))"
   ]
  },
  {
   "cell_type": "code",
   "execution_count": 55,
   "metadata": {},
   "outputs": [
    {
     "name": "stdout",
     "output_type": "stream",
     "text": [
      "原始列表第一个元素的地址： 140734024950160\n",
      "浅拷贝列表第一个元素的地址： 140734024950160\n"
     ]
    }
   ],
   "source": [
    "print(\"原始列表第一个元素的地址：\",id(list1[0]))\n",
    "print(\"浅拷贝列表第一个元素的地址：\",id(list2[0]))"
   ]
  },
  {
   "cell_type": "markdown",
   "metadata": {},
   "source": [
    "![jupyter](./images/memory1.jpg)"
   ]
  },
  {
   "cell_type": "markdown",
   "metadata": {},
   "source": [
    "在可变类型的数据中，如果存在嵌套的结构类型，浅拷贝只复制最外层的数据，导致内存地址发生变化，里面数据的内存地址不会变。"
   ]
  },
  {
   "cell_type": "code",
   "execution_count": 56,
   "metadata": {},
   "outputs": [],
   "source": [
    "#存在嵌套的情况\n",
    "list4 = [1,2,[3,4,5]]\n",
    "list5 = copy.copy(list4)"
   ]
  },
  {
   "cell_type": "code",
   "execution_count": 57,
   "metadata": {},
   "outputs": [
    {
     "name": "stdout",
     "output_type": "stream",
     "text": [
      "源数据的地址： 2823494794376\n",
      "浅拷贝的地址： 2823534576136\n"
     ]
    }
   ],
   "source": [
    "print(\"源数据的地址：\",id(list4))\n",
    "print(\"浅拷贝的地址：\",id(list5))"
   ]
  },
  {
   "cell_type": "code",
   "execution_count": 58,
   "metadata": {},
   "outputs": [
    {
     "name": "stdout",
     "output_type": "stream",
     "text": [
      "源数据的地址： 140734024950160\n",
      "浅拷贝的地址： 140734024950160\n"
     ]
    }
   ],
   "source": [
    "print(\"源数据的地址：\",id(list4[0]))\n",
    "print(\"浅拷贝的地址：\",id(list5[0]))"
   ]
  },
  {
   "cell_type": "code",
   "execution_count": 59,
   "metadata": {},
   "outputs": [
    {
     "name": "stdout",
     "output_type": "stream",
     "text": [
      "源数据的地址： 2823534578824\n",
      "浅拷贝的地址： 2823534578824\n"
     ]
    }
   ],
   "source": [
    "print(\"源数据的地址：\",id(list4[2]))\n",
    "print(\"浅拷贝的地址：\",id(list5[2]))"
   ]
  },
  {
   "cell_type": "code",
   "execution_count": 60,
   "metadata": {},
   "outputs": [
    {
     "name": "stdout",
     "output_type": "stream",
     "text": [
      "源数据的地址： 140734024950224\n",
      "浅拷贝的地址： 140734024950224\n"
     ]
    }
   ],
   "source": [
    "print(\"源数据的地址：\",id(list4[2][0]))\n",
    "print(\"浅拷贝的地址：\",id(list5[2][0]))"
   ]
  },
  {
   "cell_type": "markdown",
   "metadata": {},
   "source": [
    "## 深拷贝"
   ]
  },
  {
   "cell_type": "markdown",
   "metadata": {},
   "source": [
    "深拷贝会拷贝所有的可变数据类型，包含嵌套的数据中的可变数据。\n",
    "\n",
    "然而针对不可变数据类型的深浅拷贝，结果都是相同的。"
   ]
  },
  {
   "cell_type": "code",
   "execution_count": 62,
   "metadata": {},
   "outputs": [],
   "source": [
    "a = 'Peter'\n",
    "b = copy.copy(a)\n",
    "c = copy.deepcopy(a)"
   ]
  },
  {
   "cell_type": "code",
   "execution_count": 63,
   "metadata": {},
   "outputs": [
    {
     "name": "stdout",
     "output_type": "stream",
     "text": [
      "原数据的地址： 2823513866800\n",
      "浅拷贝的地址： 2823513866800\n",
      "深拷贝的地址： 2823513866800\n"
     ]
    }
   ],
   "source": [
    "print(\"原数据的地址：\",id(a))\n",
    "print(\"浅拷贝的地址：\",id(b))\n",
    "print(\"深拷贝的地址：\",id(c))"
   ]
  },
  {
   "cell_type": "markdown",
   "metadata": {},
   "source": [
    "针对可变类型的深拷贝："
   ]
  },
  {
   "cell_type": "code",
   "execution_count": 64,
   "metadata": {},
   "outputs": [
    {
     "name": "stdout",
     "output_type": "stream",
     "text": [
      "原数据的地址： 2823518850888\n",
      "浅拷贝的地址： 2823522557896\n",
      "深拷贝的地址： 2823521621256\n"
     ]
    }
   ],
   "source": [
    "#不存在嵌套\n",
    "\n",
    "list1 = [1,2,3]\n",
    "list2 = copy.copy(list1)\n",
    "list3 = copy.deepcopy(list1)\n",
    "print(\"原数据的地址：\",id(list1))\n",
    "print(\"浅拷贝的地址：\",id(list2))\n",
    "print(\"深拷贝的地址：\",id(list3))"
   ]
  },
  {
   "cell_type": "code",
   "execution_count": 65,
   "metadata": {},
   "outputs": [
    {
     "name": "stdout",
     "output_type": "stream",
     "text": [
      "原数据的地址： 140734024950160\n",
      "浅拷贝的地址： 140734024950160\n",
      "深拷贝的地址： 140734024950160\n"
     ]
    }
   ],
   "source": [
    "print(\"原数据的地址：\",id(list1[0]))\n",
    "print(\"浅拷贝的地址：\",id(list2[0]))\n",
    "print(\"深拷贝的地址：\",id(list3[0]))"
   ]
  },
  {
   "cell_type": "code",
   "execution_count": 67,
   "metadata": {},
   "outputs": [
    {
     "name": "stdout",
     "output_type": "stream",
     "text": [
      "原数据的地址： 2823524029208\n",
      "浅拷贝的地址： 2823524031848\n",
      "深拷贝的地址： 2823524030648\n"
     ]
    }
   ],
   "source": [
    "dict1 = {\"name\":\"xiaoming\",\"age\":27}\n",
    "dict2 = copy.copy(dict1)\n",
    "dict3 = copy.deepcopy(dict1)\n",
    "print(\"原数据的地址：\",id(dict1))\n",
    "print(\"浅拷贝的地址：\",id(dict2))\n",
    "print(\"深拷贝的地址：\",id(dict3))"
   ]
  },
  {
   "cell_type": "code",
   "execution_count": 68,
   "metadata": {},
   "outputs": [
    {
     "name": "stdout",
     "output_type": "stream",
     "text": [
      "原数据的地址： 2823528219376\n",
      "浅拷贝的地址： 2823528219376\n",
      "深拷贝的地址： 2823528219376\n"
     ]
    }
   ],
   "source": [
    "print(\"原数据的地址：\",id(dict1[\"name\"]))\n",
    "print(\"浅拷贝的地址：\",id(dict2[\"name\"]))\n",
    "print(\"深拷贝的地址：\",id(dict3[\"name\"]))"
   ]
  },
  {
   "cell_type": "markdown",
   "metadata": {},
   "source": [
    "深拷贝对最外层数据是只拷贝数据，会开辟新的内存地址来存放数据。\n",
    "\n",
    "深拷贝对里面的不可变数据类型直接复制数据和地址，和可变类型的浅拷贝是相同的效果。"
   ]
  },
  {
   "cell_type": "markdown",
   "metadata": {},
   "source": [
    "![jupyter](./images/memory2.jpg)"
   ]
  },
  {
   "cell_type": "code",
   "execution_count": 69,
   "metadata": {},
   "outputs": [
    {
     "name": "stdout",
     "output_type": "stream",
     "text": [
      "原数据的地址： 2823528582152\n",
      "浅拷贝的地址： 2823519314504\n",
      "深拷贝的地址： 2823528581064\n"
     ]
    }
   ],
   "source": [
    "#带嵌套的深拷贝\n",
    "v4 = [1,2,[3,4,5]]\n",
    "v5 = copy.copy(v4) #浅拷贝：只拷贝最外层\n",
    "v6 = copy.deepcopy(v4) #深拷贝：拷贝每层的可变元素类型\n",
    "print(\"原数据的地址：\",id(v4))\n",
    "print(\"浅拷贝的地址：\",id(v5))\n",
    "print(\"深拷贝的地址：\",id(v6))"
   ]
  },
  {
   "cell_type": "markdown",
   "metadata": {},
   "source": [
    "结论1：对整个存在嵌套类型的数据进行深浅拷贝都会发生内存的变化，因为数据本身是可变的。"
   ]
  },
  {
   "cell_type": "code",
   "execution_count": 70,
   "metadata": {},
   "outputs": [
    {
     "name": "stdout",
     "output_type": "stream",
     "text": [
      "原数据的地址： 140734024950160\n",
      "浅拷贝的地址： 140734024950160\n",
      "深拷贝的地址： 140734024950160\n"
     ]
    }
   ],
   "source": [
    "print(\"原数据的地址：\",id(v4[0]))\n",
    "print(\"浅拷贝的地址：\",id(v5[0]))\n",
    "print(\"深拷贝的地址：\",id(v6[0]))"
   ]
  },
  {
   "cell_type": "markdown",
   "metadata": {},
   "source": [
    "结论2：我们查看第一个元素1的内存地址，发生三者是相同的，因为1是属于数值型，是不可变类型。"
   ]
  },
  {
   "cell_type": "code",
   "execution_count": 71,
   "metadata": {},
   "outputs": [
    {
     "name": "stdout",
     "output_type": "stream",
     "text": [
      "原数据的地址： 2823528580488\n",
      "浅拷贝的地址： 2823528580488\n",
      "深拷贝的地址： 2823528581448\n"
     ]
    }
   ],
   "source": [
    "print(\"原数据的地址：\",id(v4[2]))\n",
    "print(\"浅拷贝的地址：\",id(v5[2]))\n",
    "print(\"深拷贝的地址：\",id(v6[2]))"
   ]
  },
  {
   "cell_type": "markdown",
   "metadata": {},
   "source": [
    "结论3：我们查看第三个元素即里面嵌套列表的内存，发现只有深拷贝是不同的，因为这个嵌套的列表是可变数据类型，深拷贝在拷贝了最外层之后还会继续拷贝子层级的可变类型。"
   ]
  },
  {
   "cell_type": "code",
   "execution_count": 72,
   "metadata": {},
   "outputs": [
    {
     "name": "stdout",
     "output_type": "stream",
     "text": [
      "原数据的地址： 140734024950224\n",
      "浅拷贝的地址： 140734024950224\n",
      "深拷贝的地址： 140734024950224\n"
     ]
    }
   ],
   "source": [
    "print(\"原数据的地址：\",id(v4[2][0]))\n",
    "print(\"浅拷贝的地址：\",id(v5[2][0]))\n",
    "print(\"深拷贝的地址：\",id(v6[2][0]))"
   ]
  },
  {
   "cell_type": "markdown",
   "metadata": {},
   "source": [
    "结论4：我们查看嵌套列表中的元素的内存地址，发现它们是相同的，因为元素是数值型，是不可变的，不受拷贝的影响"
   ]
  },
  {
   "cell_type": "markdown",
   "metadata": {},
   "source": [
    "## 元组的深浅拷贝"
   ]
  },
  {
   "cell_type": "code",
   "execution_count": 74,
   "metadata": {},
   "outputs": [
    {
     "name": "stdout",
     "output_type": "stream",
     "text": [
      "2823529174184\n",
      "2823529174184\n",
      "2823529174184\n"
     ]
    }
   ],
   "source": [
    "#不存在嵌套结构时，深浅拷贝效果都一样\n",
    "t = (1,2,3,4)\n",
    "t1 = copy.copy(t)\n",
    "t2 = copy.deepcopy(t)\n",
    "print(id(t))\n",
    "print(id(t1))\n",
    "print(id(t2))"
   ]
  },
  {
   "cell_type": "code",
   "execution_count": 75,
   "metadata": {},
   "outputs": [
    {
     "name": "stdout",
     "output_type": "stream",
     "text": [
      "2823496248600\n",
      "2823496248600\n",
      "2823526978008\n"
     ]
    }
   ],
   "source": [
    "#元组的数据中存在嵌套的可变结构，比如列表时，深拷贝会重新开辟地址，将元组重新组成一份。\n",
    "tup = (1,2,[3,4,5],6)\n",
    "tup1 = copy.copy(tup)\n",
    "tup2 = copy.deepcopy(tup)\n",
    "print(id(tup))\n",
    "print(id(tup1))\n",
    "print(id(tup2))"
   ]
  },
  {
   "cell_type": "code",
   "execution_count": null,
   "metadata": {},
   "outputs": [],
   "source": []
  }
 ],
 "metadata": {
  "kernelspec": {
   "display_name": "Python 3",
   "language": "python",
   "name": "python3"
  },
  "language_info": {
   "codemirror_mode": {
    "name": "ipython",
    "version": 3
   },
   "file_extension": ".py",
   "mimetype": "text/x-python",
   "name": "python",
   "nbconvert_exporter": "python",
   "pygments_lexer": "ipython3",
   "version": "3.7.9"
  }
 },
 "nbformat": 4,
 "nbformat_minor": 4
}
